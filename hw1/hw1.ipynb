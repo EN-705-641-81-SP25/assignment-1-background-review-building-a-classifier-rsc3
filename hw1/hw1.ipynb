{
 "cells": [
  {
   "cell_type": "code",
   "execution_count": 3,
   "metadata": {},
   "outputs": [],
   "source": [
    "import torch"
   ]
  },
  {
   "cell_type": "code",
   "execution_count": 5,
   "metadata": {},
   "outputs": [],
   "source": [
    "\n",
    "a = 2\n",
    "x = torch.tensor([0, 1, 2])\n",
    "y = torch.tensor([3, 4, 5])\n",
    "z = torch.tensor([1, 2, -1])\n",
    "A = torch.tensor([[3, 2, 2], [1, 3, 1], [1, 1, 3]])"
   ]
  },
  {
   "cell_type": "markdown",
   "metadata": {},
   "source": [
    "# 1.1\n",
    "\n",
    "1. 14\n",
    "2. 0\n",
    "3. [6 10 14]^T\n",
    "4. root(5)\n",
    "5. [0 1 2]\n",
    "6. [5 5 7]^T\n",
    "7. 19\n",
    "\n",
    "# 1.2\n",
    "\n",
    "\n",
    "\n",
    "1. True\n",
    "2. True\n",
    "3. False, this should generate a square matrix, not the sum\n",
    "4. True\n",
    "5. False, matrix multiplication is not communitive\n",
    "6. True, matrix multiplication is transitive\n",
    "7. True\n",
    "8. False, these look like the transpose of each other\n",
    "9. True"
   ]
  },
  {
   "cell_type": "markdown",
   "metadata": {},
   "source": [
    "# 1.3\n",
    "\n",
    "Not invertable, see the error below\n",
    "\n",
    "Every matrix with nonzero diagonals is diagonalizable, see below"
   ]
  },
  {
   "cell_type": "code",
   "execution_count": 17,
   "metadata": {},
   "outputs": [
    {
     "name": "stdout",
     "output_type": "stream",
     "text": [
      "linalg.inv: The diagonal element 3 is zero, the inversion could not be completed because the input matrix is singular.\n",
      "Diagonalization of B:\n",
      "torch.return_types.linalg_eig(\n",
      "eigenvalues=tensor([3.0000e+00+0.j, 1.0000e+00+0.j, 9.4259e-08+0.j]),\n",
      "eigenvectors=tensor([[-4.0825e-01+0.j, -7.0711e-01+0.j,  5.7735e-01+0.j],\n",
      "        [ 8.1650e-01+0.j,  1.1968e-07+0.j,  5.7735e-01+0.j],\n",
      "        [-4.0825e-01+0.j,  7.0711e-01+0.j,  5.7735e-01+0.j]]))\n"
     ]
    }
   ],
   "source": [
    "B = torch.tensor([[1., -1., 0.], [-1., 2., -1.], [0., -1., 1.]])\n",
    "\n",
    "# evaluate the inverse of B and display it\n",
    "try:\n",
    "    B_inv = torch.linalg.inv(B)\n",
    "    print(f\"Inverse of B:\\n{B_inv}\")\n",
    "except RuntimeError as e:\n",
    "    print(e) \n",
    "\n",
    "# diagnolize B and display the result\n",
    "try:\n",
    "    B_diag = torch.linalg.eig(B)\n",
    "    print(f\"Diagonalization of B:\\n{B_diag}\")\n",
    "except RuntimeError as e:\n",
    "    print(e)"
   ]
  },
  {
   "cell_type": "markdown",
   "metadata": {},
   "source": [
    "# 2\n",
    "## 2.1\n",
    "1. Difference between two rolls is at least 3: (1, 4), (1, 5), (1, 6), (2, 5), (2, 6), (3, 6) and there are two ways to roll each of these (no symmetries) so there is 12/36 = 1/3 chance of winning\n",
    "The fair price for a ticket to play is 1/3 * 15 = $5\n",
    "\n",
    "2. Exclusive means they have no overlap so P(B) = .95 - .4 = 0.55\n",
    "\n",
    "3. If they are independent then the overlap probability is P(A)* P(B) so 1 = P(A) + P(B) - P(A) * P(B)\n",
    "\n",
    "0.95 = P(A) + P(B) + P(A) * P(B)\n",
    "\n",
    "1.95 / 2 = P(A) + P(B)\n",
    "\n",
    "P(B) = 1.95 / 2 - 0.4 = .575\n",
    "\n",
    "## 2.2\n",
    "\n",
    "E[X] = 0.5 * 0.3 * 3 + 0.5 * 0.9 * 3 = 1.8\n",
    "\n",
    "Var[X] = (X - 1.8) ^2\n",
    "\n",
    "E[Y] = 1 / (2 + 1.8) = 0.263 dollars\n",
    "\n",
    "## 2.3\n",
    "\n",
    "No, Var[X + X] is not the variation of two distributions that are iid\n",
    "\n",
    "# 3\n",
    "\n",
    "## 3.1\n",
    "\n",
    "1. 6x -2\n",
    "2. 1-x -x = 1-2x\n",
    "3. f'(x) = 1 - p'(x)/p(x)\n",
    "\n",
    "f(x) = x e ^ -x\n",
    "\n",
    "## 3.2\n",
    "\n",
    "I solved the problem for R^ (2x2) instead, too lazy to fix it for R^2\n",
    "\n",
    "1. [2 x1, e ^ x2]\n",
    "2. [ e^ (x1 + x2x3), e^ (x1 + x2x3) * x3, e^ (x1 + x2x3) * x2]\n",
    "3. [ [ a1 + a3, 0], [0, a1 + a3], [a2 + a4, 0, [0, a2 + a4]]]\n",
    "4. [ (2x1 - x3)x1 + x2 ( x3 - x1), (2x2 - x4) + x4* (x4-x2)]\n",
    "5. (1/2) sum_{i=1}^d xi^2\n",
    "\n",
    "# 4\n",
    "\n",
    "1. O(n log n)\n",
    "2. O(n)\n",
    "3. O(log n)\n",
    "4. O (1)\n",
    "5. O (n d)\n",
    "6. O (d^2)\n",
    "7. O ( m n d)\n",
    "\n",
    "# 5\n",
    "\n",
    "\n",
    "\n",
    "\n"
   ]
  },
  {
   "cell_type": "code",
   "execution_count": null,
   "metadata": {},
   "outputs": [],
   "source": []
  }
 ],
 "metadata": {
  "kernelspec": {
   "display_name": "ssw_hw1",
   "language": "python",
   "name": "python3"
  },
  "language_info": {
   "codemirror_mode": {
    "name": "ipython",
    "version": 3
   },
   "file_extension": ".py",
   "mimetype": "text/x-python",
   "name": "python",
   "nbconvert_exporter": "python",
   "pygments_lexer": "ipython3",
   "version": "3.10.13"
  }
 },
 "nbformat": 4,
 "nbformat_minor": 2
}
